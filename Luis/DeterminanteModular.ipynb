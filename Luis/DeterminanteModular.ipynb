{
 "cells": [
  {
   "cell_type": "code",
   "execution_count": 1,
   "metadata": {},
   "outputs": [
    {
     "name": "stdout",
     "output_type": "stream",
     "text": [
      "Defining x\n"
     ]
    }
   ],
   "source": [
    "R=QQ['x']\n",
    "R.inject_variables()"
   ]
  },
  {
   "cell_type": "code",
   "execution_count": 24,
   "metadata": {},
   "outputs": [],
   "source": [
    "def midet_modular(M):\n",
    "    #Suponemos M matriz cuadrada con coeficientes en QQ[x].\n",
    "    n=M.nrows()\n",
    "    L=0\n",
    "    for i in range(n):\n",
    "        for j in range(n):\n",
    "            # L = max(L,M[i,j].degree())\n",
    "            if M[i,j].degree() > L:\n",
    "                L = M[i,j].degree()\n",
    "    #Con esto tenemos guardado en L el máximo de todos los grados de las entradas de M.\n",
    "    #Una cota del determinante es nL. Tenemos que hacer interpolación en r=nL+1 puntos.\n",
    "    r=n*L+1\n",
    "    LAGRANGE = [(i,M(x=i).det()) for i in range(r)]\n",
    "    return R.lagrange_polynomial(LAGRANGE)"
   ]
  },
  {
   "cell_type": "code",
   "execution_count": 35,
   "metadata": {},
   "outputs": [],
   "source": [
    "#M=random_matrix(R,20,20)\n",
    "#M = matrix(R, 5, 5, lambda i,j: i+j); M #Se pueden construir matrices indicando cómo se construye el término i,j\n",
    "M = matrix(R, 20, 20, lambda i,j: R.random_element(10));\n"
   ]
  },
  {
   "cell_type": "code",
   "execution_count": 36,
   "metadata": {},
   "outputs": [
    {
     "name": "stdout",
     "output_type": "stream",
     "text": [
      "CPU times: user 4.14 s, sys: 5.5 ms, total: 4.14 s\n",
      "Wall time: 4.13 s\n"
     ]
    }
   ],
   "source": [
    "%time _=M.det()"
   ]
  },
  {
   "cell_type": "code",
   "execution_count": 38,
   "metadata": {},
   "outputs": [
    {
     "name": "stdout",
     "output_type": "stream",
     "text": [
      "CPU times: user 1.07 s, sys: 0 ns, total: 1.07 s\n",
      "Wall time: 1.07 s\n"
     ]
    }
   ],
   "source": [
    "%time _=midet_modular(M)"
   ]
  },
  {
   "cell_type": "code",
   "execution_count": 39,
   "metadata": {},
   "outputs": [],
   "source": [
    "#Si son ocho líneas, ¿por qué no está implementado en Sage?\n",
    "#Varias razones:\n",
    "# Esto vale en cuerpos, pero falla en Z/(6)\n",
    "# Para matrices sobre polinomios, no tiene implementados matrices sobre polinomios sobre un cuerpo y haría falta implementarlo.\n",
    "# Debemos estar seguros de cuándo es más rápido que lo que hace Sage porque hay dos parámetros.\n",
    "# El determinante sobre Q lo calcula Sage, pero puede que en cuerpos finitos haga cosas distintas.\n",
    "# Necesitamos controlar también cuántas veces tiene que calcular los determinantes."
   ]
  },
  {
   "cell_type": "code",
   "execution_count": 78,
   "metadata": {},
   "outputs": [],
   "source": [
    "# Queremos ver cómo adaptar el algoritmo modular sobre Z:\n",
    "def midet_modular_ZZ(M):\n",
    "    n = M.nrows()\n",
    "    #Podemos utilizar la cota de Hadamard. Queremos evitar las raíces cuadradas porque Sage las calcula simbólicamente y no es rápido.\n",
    "    L=prod(fila*fila for fila in M.rows()) #La norma al cuadrado.\n",
    "    #Necesitamos una cota del temaño del determinante en número de bits.\n",
    "    #Vamos a calcular una aproximación numérica\n",
    "    #Necesitamos que (p_1,...,p_r-1)^2>4L. Vamos tomando primos hasta que los tenemos.\n",
    "    #Vamos evaluando la matriz en distintos cuerpos Z/(p) y calculando los determinantes.\n",
    "    p=2\n",
    "    T=2\n",
    "    CHINO_modulos=[2]\n",
    "    CHINO_residuo = [ZZ(M.change_ring(GF(2)).det())]\n",
    "    while (T-1)**2<=4*L:\n",
    "        p = next_prime(p)\n",
    "        T= T*p\n",
    "        CHINO_modulos.append(p)\n",
    "        determinante = ZZ(M.change_ring(GF(p)).det())\n",
    "        CHINO_residuo.append(determinante)\n",
    "    detmodT=crt(CHINO_residuo,CHINO_modulos)\n",
    "    #Ojo lo siguiente es <0 o <=0, revisar el teorema.\n",
    "    if 2*detmodT<=T:\n",
    "        return detmodT\n",
    "    else:\n",
    "        return detmodT-T"
   ]
  },
  {
   "cell_type": "code",
   "execution_count": 94,
   "metadata": {},
   "outputs": [
    {
     "name": "stdout",
     "output_type": "stream",
     "text": [
      "CPU times: user 14.1 ms, sys: 105 µs, total: 14.2 ms\n",
      "Wall time: 13.6 ms\n"
     ]
    },
    {
     "data": {
      "text/plain": [
       "-36448554470603209837720371557386227966422871597781232905394844305495625838069293563987609194912354480471082384825005002866912400950040392314778048254038309507455527646872216549474220187661742941755311527103740406083597519566365396884896553851153694735164385467127634767754117988824224213739085595650453275429707175802791375262129193771655948001190620470510746775817473343095048447118043093874961639363539058327571987207266825815444375760540768413680296824290988175421125651309349353940761341100221361797779631806591454103258674606936561553523531343941148111832974288689411291432983570392978245492015711908695037459527122443215106008948546829082734751157261738929946879322909888356798421409699446"
      ]
     },
     "execution_count": 94,
     "metadata": {},
     "output_type": "execute_result"
    }
   ],
   "source": [
    "%time M=matrix(ZZ,150,150,lambda i,j: ZZ.random_element(-10000,10000))\n",
    "midet_modular_ZZ(M)"
   ]
  },
  {
   "cell_type": "code",
   "execution_count": 85,
   "metadata": {},
   "outputs": [
    {
     "data": {
      "text/plain": [
       "20 x 20 dense matrix over Integer Ring (use the '.str()' method to see the entries)"
      ]
     },
     "execution_count": 85,
     "metadata": {},
     "output_type": "execute_result"
    }
   ],
   "source": [
    "M"
   ]
  },
  {
   "cell_type": "code",
   "execution_count": 86,
   "metadata": {},
   "outputs": [],
   "source": [
    "M2=matrix(ZZ,10,10,lambda i,j: ZZ.random_element(10))"
   ]
  },
  {
   "cell_type": "code",
   "execution_count": 87,
   "metadata": {},
   "outputs": [
    {
     "data": {
      "text/plain": [
       "4651750"
      ]
     },
     "execution_count": 87,
     "metadata": {},
     "output_type": "execute_result"
    }
   ],
   "source": [
    "midet_modular_ZZ(M2)"
   ]
  },
  {
   "cell_type": "code",
   "execution_count": null,
   "metadata": {},
   "outputs": [],
   "source": [
    "# BIG PRIME vs SMALL PRIME.\n",
    "# ¿Es mejor tomar un primo grande o empezar en 2 e ir subiendo?\n",
    "# Es mejor aprovecharse del teorema chino\n"
   ]
  },
  {
   "cell_type": "code",
   "execution_count": 1,
   "metadata": {},
   "outputs": [
    {
     "name": "stdout",
     "output_type": "stream",
     "text": [
      "Help on function crt in module sage.arith.misc:\n",
      "\n",
      "crt(a, b, m=None, n=None)\n",
      "    Return a solution to a Chinese Remainder Theorem problem.\n",
      "    \n",
      "    INPUT:\n",
      "    \n",
      "    - ``a``, ``b`` - two residues (elements of some ring for which\n",
      "      extended gcd is available), or two lists, one of residues and\n",
      "      one of moduli.\n",
      "    \n",
      "    - ``m``, ``n`` - (default: ``None``) two moduli, or ``None``.\n",
      "    \n",
      "    OUTPUT:\n",
      "    \n",
      "    If ``m``, ``n`` are not ``None``, returns a solution `x` to the\n",
      "    simultaneous congruences `x\\equiv a \\bmod m` and `x\\equiv b \\bmod\n",
      "    n`, if one exists. By the Chinese Remainder Theorem, a solution to the\n",
      "    simultaneous congruences exists if and only if\n",
      "    `a\\equiv b\\pmod{\\gcd(m,n)}`. The solution `x` is only well-defined modulo\n",
      "    `\\text{lcm}(m,n)`.\n",
      "    \n",
      "    If ``a`` and ``b`` are lists, returns a simultaneous solution to\n",
      "    the congruences `x\\equiv a_i\\pmod{b_i}`, if one exists.\n",
      "    \n",
      "    .. SEEALSO::\n",
      "    \n",
      "        - :func:`CRT_list`\n",
      "    \n",
      "    EXAMPLES:\n",
      "    \n",
      "    Using ``crt`` by giving it pairs of residues and moduli::\n",
      "    \n",
      "        sage: crt(2, 1, 3, 5)\n",
      "        11\n",
      "        sage: crt(13, 20, 100, 301)\n",
      "        28013\n",
      "        sage: crt([2, 1], [3, 5])\n",
      "        11\n",
      "        sage: crt([13, 20], [100, 301])\n",
      "        28013\n",
      "    \n",
      "    You can also use upper case::\n",
      "    \n",
      "        sage: c = CRT(2,3, 3, 5); c\n",
      "        8\n",
      "        sage: c % 3 == 2\n",
      "        True\n",
      "        sage: c % 5 == 3\n",
      "        True\n",
      "    \n",
      "    Note that this also works for polynomial rings::\n",
      "    \n",
      "        sage: K.<a> = NumberField(x^3 - 7)\n",
      "        sage: R.<y> = K[]\n",
      "        sage: f = y^2 + 3\n",
      "        sage: g = y^3 - 5\n",
      "        sage: CRT(1,3,f,g)\n",
      "        -3/26*y^4 + 5/26*y^3 + 15/26*y + 53/26\n",
      "        sage: CRT(1,a,f,g)\n",
      "        (-3/52*a + 3/52)*y^4 + (5/52*a - 5/52)*y^3 + (15/52*a - 15/52)*y + 27/52*a + 25/52\n",
      "    \n",
      "    You can also do this for any number of moduli::\n",
      "    \n",
      "        sage: K.<a> = NumberField(x^3 - 7)\n",
      "        sage: R.<x> = K[]\n",
      "        sage: CRT([], [])\n",
      "        0\n",
      "        sage: CRT([a], [x])\n",
      "        a\n",
      "        sage: f = x^2 + 3\n",
      "        sage: g = x^3 - 5\n",
      "        sage: h = x^5 + x^2 - 9\n",
      "        sage: k = CRT([1, a, 3], [f, g, h]); k\n",
      "        (127/26988*a - 5807/386828)*x^9 + (45/8996*a - 33677/1160484)*x^8 + (2/173*a - 6/173)*x^7 + (133/6747*a - 5373/96707)*x^6 + (-6/2249*a + 18584/290121)*x^5 + (-277/8996*a + 38847/386828)*x^4 + (-135/4498*a + 42673/193414)*x^3 + (-1005/8996*a + 470245/1160484)*x^2 + (-1215/8996*a + 141165/386828)*x + 621/8996*a + 836445/386828\n",
      "        sage: k.mod(f)\n",
      "        1\n",
      "        sage: k.mod(g)\n",
      "        a\n",
      "        sage: k.mod(h)\n",
      "        3\n",
      "    \n",
      "    If the moduli are not coprime, a solution may not exist::\n",
      "    \n",
      "        sage: crt(4,8,8,12)\n",
      "        20\n",
      "        sage: crt(4,6,8,12)\n",
      "        Traceback (most recent call last):\n",
      "        ...\n",
      "        ValueError: No solution to crt problem since gcd(8,12) does not divide 4-6\n",
      "    \n",
      "        sage: x = polygen(QQ)\n",
      "        sage: crt(2,3,x-1,x+1)\n",
      "        -1/2*x + 5/2\n",
      "        sage: crt(2,x,x^2-1,x^2+1)\n",
      "        -1/2*x^3 + x^2 + 1/2*x + 1\n",
      "        sage: crt(2,x,x^2-1,x^3-1)\n",
      "        Traceback (most recent call last):\n",
      "        ...\n",
      "        ValueError: No solution to crt problem since gcd(x^2 - 1,x^3 - 1) does not divide 2-x\n",
      "    \n",
      "        sage: crt(int(2), int(3), int(7), int(11))\n",
      "        58\n",
      "    \n",
      "    crt also work with numpy and gmpy2 numbers::\n",
      "    \n",
      "        sage: import numpy\n",
      "        sage: crt(numpy.int8(2), numpy.int8(3), numpy.int8(7), numpy.int8(11))\n",
      "        58\n",
      "        sage: from gmpy2 import mpz\n",
      "        sage: crt(mpz(2), mpz(3), mpz(7), mpz(11))\n",
      "        58\n",
      "        sage: crt(mpz(2), 3, mpz(7), numpy.int8(11))\n",
      "        58\n",
      "\n"
     ]
    }
   ],
   "source": [
    "help(crt)"
   ]
  }
 ],
 "metadata": {
  "kernelspec": {
   "display_name": "SageMath 9.0",
   "language": "sage",
   "name": "sagemath"
  },
  "language_info": {
   "codemirror_mode": {
    "name": "ipython",
    "version": 3
   },
   "file_extension": ".py",
   "mimetype": "text/x-python",
   "name": "python",
   "nbconvert_exporter": "python",
   "pygments_lexer": "ipython3",
   "version": "3.8.5"
  }
 },
 "nbformat": 4,
 "nbformat_minor": 4
}
