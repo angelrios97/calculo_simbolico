{
 "cells": [
  {
   "cell_type": "code",
   "execution_count": 3,
   "metadata": {},
   "outputs": [],
   "source": [
    "# Implementamos el método de Karatsuba para polinomios modificado de manera recursiva\n",
    "# para dividir el polinomio más grande por el más pequeño."
   ]
  },
  {
   "cell_type": "code",
   "execution_count": null,
   "metadata": {},
   "outputs": [],
   "source": [
    "SUMAS=0\n",
    "PRODUCTOS=0"
   ]
  },
  {
   "cell_type": "code",
   "execution_count": 4,
   "metadata": {},
   "outputs": [],
   "source": [
    "def Cgrado(f):\n",
    "    f=Climpia(f)\n",
    "    return len(f)-1"
   ]
  },
  {
   "cell_type": "code",
   "execution_count": 5,
   "metadata": {},
   "outputs": [],
   "source": [
    "def Climpia(f):\n",
    "    f=copy(f)\n",
    "    if not f:\n",
    "        #return f no modifica f, entonces no es local\n",
    "        return [] #modifica f\n",
    "    while f and f[-1]==0: #Miramos primero que la lista no es vacía.\n",
    "        f=f[:-1] #f.pop() modificaría la lista.\n",
    "    return f"
   ]
  },
  {
   "cell_type": "code",
   "execution_count": 6,
   "metadata": {},
   "outputs": [],
   "source": [
    "def Csuma(f,g):\n",
    "    global SUMAS\n",
    "    #Primero calculamos los tamaños\n",
    "    n=len(f)\n",
    "    m=len(g)\n",
    "    if n<m: #Nos aseguramos que f es el más grande.\n",
    "        f,g=g,f\n",
    "        n,m=m,n\n",
    "    resultado=[0]*m\n",
    "    for i in range(m):\n",
    "        resulta do[i]=f[i]+g[i]\n",
    "        SUMAS+=1\n",
    "    resultado=resultado+f[m:] #Añadimos los elementos que faltan de f ahorrándonos sumas.\n",
    "    return Climpia(resultado) #Limpiamos el polinomio porque puede haber cancelaciones de términos."
   ]
  },
  {
   "cell_type": "code",
   "execution_count": 7,
   "metadata": {},
   "outputs": [],
   "source": [
    "def Cresta(f,g):\n",
    "    g=Copuesto(g)\n",
    "    return Csuma(f,g)"
   ]
  },
  {
   "cell_type": "code",
   "execution_count": 8,
   "metadata": {},
   "outputs": [],
   "source": [
    "def Copuesto(f):\n",
    "    global SUMAS\n",
    "    SUMAS+=len(g)\n",
    "    return [-i for i in f]"
   ]
  },
  {
   "cell_type": "code",
   "execution_count": 1,
   "metadata": {},
   "outputs": [],
   "source": [
    "def CproductoK(f,g):\n",
    "    corte=16\n",
    "    n=len(f)\n",
    "    m=len(g)\n",
    "    t=max(n,m)\n",
    "    if t<=corte:\n",
    "        return Cproductoescuela(f,g)\n",
    "    if n<t: #Ponemos f y g del mismo tamaño rellenando con ceros.\n",
    "        f=f+[0]*(m-n) #Si los tamaños en la recursión son distintos, en estas lineas la recursión se encarga de añadir ceros.\n",
    "    elif m<t:\n",
    "        g=g+[0]*(n-m)\n",
    "    t2=floor(t/2)\n",
    "    f0=f[:t2]\n",
    "    f1=f[t2:]\n",
    "    g0=g[:t2]\n",
    "    g1=g[t2:]\n",
    "    u=CproductoK(f0,g0)\n",
    "    v=CproductoK(f1,g1)\n",
    "    fs=Csuma(f0,f1)\n",
    "    gs=Csuma(g0,g1)\n",
    "    w=CproductoK(fs,gs)\n",
    "    #Tenemos que calcular w-u-v=w-(u+v)\n",
    "    w1=Cresta(w,Csuma(u,v))\n",
    "    #Tenemos que reconstruir el polinomio u+w*x**?+v*x**?. Los exponentes dependen de t2.\n",
    "    #f0 tiene t2 términos con lo que es hasta el monomio t2-1. f1 empieza en el monomio t2.\n",
    "    #Por tanto, lo que queremos calcular es u+w*x**t2+v*x**(2*t2).\n",
    "    #Calculamos w1*x**t2 añadiendo simplemente t2 ceros.\n",
    "    resultado=Csuma(u,[0]*t2+w1)\n",
    "    resultado=Csuma(resultado,[0]*(2*t2)+v)\n",
    "    return Climpia(resultado)"
   ]
  },
  {
   "cell_type": "code",
   "execution_count": null,
   "metadata": {},
   "outputs": [],
   "source": [
    "def CproductoK_modificado(f,g):\n",
    "    corte=8\n",
    "    n=len(f)\n",
    "    m=len(g)\n",
    "    t=min(n,m)\n",
    "    "
   ]
  }
 ],
 "metadata": {
  "kernelspec": {
   "display_name": "Python 3",
   "language": "python",
   "name": "python3"
  },
  "language_info": {
   "codemirror_mode": {
    "name": "ipython",
    "version": 3
   },
   "file_extension": ".py",
   "mimetype": "text/x-python",
   "name": "python",
   "nbconvert_exporter": "python",
   "pygments_lexer": "ipython3",
   "version": "3.8.5"
  }
 },
 "nbformat": 4,
 "nbformat_minor": 4
}
