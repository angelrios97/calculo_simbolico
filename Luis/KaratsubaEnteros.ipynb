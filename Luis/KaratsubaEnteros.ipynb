{
 "cells": [
  {
   "cell_type": "code",
   "execution_count": 53,
   "metadata": {},
   "outputs": [],
   "source": [
    "# Método de Karatsuba para enteros.\n",
    "def Karatsuba(x,y):\n",
    "    if x == 0 or y == 0:\n",
    "        return 0\n",
    "    if x < 0:\n",
    "        if y < 0:\n",
    "            signo = 1\n",
    "            x = -x\n",
    "        else:\n",
    "            signo = -1\n",
    "            x = -x\n",
    "            y = -y\n",
    "    else:\n",
    "        if y < 0:\n",
    "            signo = -1\n",
    "            y = -y\n",
    "        else:\n",
    "            signo = 1\n",
    "    x = numero_lista(x)\n",
    "    y = numero_lista(y)"
   ]
  },
  {
   "cell_type": "code",
   "execution_count": null,
   "metadata": {},
   "outputs": [],
   "source": []
  },
  {
   "cell_type": "code",
   "execution_count": 6,
   "metadata": {},
   "outputs": [],
   "source": [
    "n = 1051516515\n",
    "n = str(n)"
   ]
  },
  {
   "cell_type": "code",
   "execution_count": 11,
   "metadata": {},
   "outputs": [
    {
     "data": {
      "text/plain": [
       "[1, 0, 5, 1, 5, 1, 6, 5, 1, 5]"
      ]
     },
     "execution_count": 11,
     "metadata": {},
     "output_type": "execute_result"
    }
   ],
   "source": [
    "lista = [x in ]\n",
    "list(map(int,lista))"
   ]
  },
  {
   "cell_type": "code",
   "execution_count": 9,
   "metadata": {},
   "outputs": [
    {
     "data": {
      "text/plain": [
       "['1', '0', '5', '1', '5', '1', '6', '5', '1', '5']"
      ]
     },
     "execution_count": 9,
     "metadata": {},
     "output_type": "execute_result"
    }
   ],
   "source": []
  },
  {
   "cell_type": "code",
   "execution_count": 51,
   "metadata": {},
   "outputs": [],
   "source": [
    "def numero_lista(numero):\n",
    "    def generador(cadena):\n",
    "        cadena = list(cadena)\n",
    "        if len(cadena) == 1:\n",
    "            yield cadena[0]\n",
    "        else:\n",
    "            yield cadena[0]\n",
    "            cadena.pop(0)\n",
    "            yield from generador(cadena)\n",
    "    return list(map(int,generador(str(numero))))"
   ]
  },
  {
   "cell_type": "code",
   "execution_count": 52,
   "metadata": {
    "scrolled": true
   },
   "outputs": [
    {
     "data": {
      "text/plain": [
       "[2, 3]"
      ]
     },
     "execution_count": 52,
     "metadata": {},
     "output_type": "execute_result"
    }
   ],
   "source": [
    "numero_lista(23)"
   ]
  }
 ],
 "metadata": {
  "kernelspec": {
   "display_name": "SageMath 9.0",
   "language": "sage",
   "name": "sagemath"
  },
  "language_info": {
   "codemirror_mode": {
    "name": "ipython",
    "version": 3
   },
   "file_extension": ".py",
   "mimetype": "text/x-python",
   "name": "python",
   "nbconvert_exporter": "python",
   "pygments_lexer": "ipython3",
   "version": "3.8.5"
  }
 },
 "nbformat": 4,
 "nbformat_minor": 4
}
