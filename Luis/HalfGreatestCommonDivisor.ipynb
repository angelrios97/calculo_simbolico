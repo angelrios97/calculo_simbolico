{
 "cells": [
  {
   "cell_type": "code",
   "execution_count": 130,
   "metadata": {},
   "outputs": [],
   "source": [
    "def HGCD(a, b):  # Calcula el Half-GCD de los polinomios a, b.\n",
    "    K = a.parent()  # Anillo de polinomios de a y b.\n",
    "    dega = a.degree() # Grados de a y b.\n",
    "    degb = b.degree()\n",
    "    m = (dega / 2).ceil()\n",
    "    if degb < m:  # Si el grado de b es menor que m, es la identidad.\n",
    "        return matrix(K, 2, [1, 0, 0, 1])\n",
    "    a0 = a.shift(-m)  # Cocientes de a y b por x^m.\n",
    "    b0 = b.shift(-m)\n",
    "    R = HGCD(a0, b0)  # Calculamos el HGCD recursivamente.\n",
    "    r11 = R[0][0]  # Guardamos las componentes de la matriz R.\n",
    "    r12 = R[0][1]\n",
    "    r21 = R[1][0]\n",
    "    r22 = R[1][1]\n",
    "    d = (r11 * r22 - r12 * r21)  #R^-1*(a,b)'.\n",
    "    a1 = (d * (a * r22 - b * r12))\n",
    "    b1 = (d * (b * r11 - a * r21))\n",
    "    if b1.degree() < m:  # Si el grado de b1 es menor que m, devuelve R.\n",
    "        return R\n",
    "    qt, d = a1.quo_rem(b1)  # Si no, hacemos un paso de Euclides.\n",
    "    c = b1  \n",
    "    l = c.degree()\n",
    "    k = 2 * m - l  # Tomamos k para que la recursión funcione.\n",
    "    c0 = c.shift(-k)\n",
    "    d0 = d.shift(-k)\n",
    "    S = HGCD(c0, d0)  # Calculamos el HGCD recurisvamente.\n",
    "    RM = matrix(K, 2, prod(R, matrix(K, 2, [qt, K(1), K(1), K(0)])))\n",
    "    Q = matrix(K, 2, prod(RM, S))  # Matriz R * [qt, 1, 1, 0] * S.\n",
    "    return Q\n",
    "\n",
    "\n",
    "def MIGCD(f,g):  # Calcula el gcd(f,g) aprovechando el HGCD.\n",
    "    K = f.parent()\n",
    "    a = f  # No queremos que modifique la entrada.\n",
    "    b = g\n",
    "    if a % b == 0:  # Si f es divisible por g, GCD(f,g) = g.\n",
    "        return b\n",
    "    R = HGCD(a, b)  # Matriz R del HGCD.\n",
    "    r11 = R[0][0]  # Guardamos las componentes de la matriz R.\n",
    "    r12 = R[0][1]\n",
    "    r21 = R[1][0]\n",
    "    r22 = R[1][1]\n",
    "    d = (r11 * r22 - r12 * r21)  # det(R)\n",
    "    b0 = (d * (a * r22 - b * r12))  # R^-1*(f,g)'\n",
    "    b1 = (d * (b * r11 - a * r21))\n",
    "    rem = b0 % b1  # Resto del cociente de b0 entre b1.\n",
    "    if rem == 0:  # Si b0 es divisible por b1, GCD(f,g) = b1.\n",
    "        return b1\n",
    "    else:  # Si no, calculamos recursivamente el GCD con el resto.\n",
    "        return MIGCD(b1, rem)\n",
    "\n",
    "\n",
    "def prod(A, B):  # Calcula el producto de dos matrices 2x2 como lista.\n",
    "    A = list(A)  # Si A y B son matrices, las pasamos a listas.\n",
    "    B = list(B)\n",
    "    return [(A[0][0] * B[0][0] + A[0][1] * B[1][0],\n",
    "             A[0][0] * B[0][1] + A[0][1] * B[1][1]),\n",
    "            (A[1][0] * B[0][0] + A[1][1] * B[1][0],\n",
    "             A[1][0] * B[0][1] + A[1][1] * B[1][1])]\n",
    "\n",
    "\n",
    "def euclid_gcd(f, g):  # Calcula gcd(f,g) con el algoritmo de Euclides.\n",
    "    r0 = f\n",
    "    r1 = g\n",
    "    while r1 != 0:\n",
    "        r0, r1 = r1, r0%r1\n",
    "    return r0"
   ]
  },
  {
   "cell_type": "code",
   "execution_count": 120,
   "metadata": {},
   "outputs": [
    {
     "name": "stdout",
     "output_type": "stream",
     "text": [
      "11*x^2 + 23*x + 67\n",
      "CPU times: user 797 µs, sys: 1e+03 ns, total: 798 µs\n",
      "Wall time: 455 µs\n",
      "11*x^2 + 23*x + 67\n",
      "CPU times: user 425 µs, sys: 0 ns, total: 425 µs\n",
      "Wall time: 428 µs\n"
     ]
    }
   ],
   "source": [
    "K.<x> = PolynomialRing(GF(101))\n",
    "f = K(7 * (2*x - 3) * (x - 1) * (x ** 4+ 3 * x + 2))\n",
    "g = K(6* x ** 3 - 17 * x ** 2 + 14 * x - 3)\n",
    "%time print(euclid_gcd(f,g))\n",
    "%time print(MIGCD(f,g))"
   ]
  },
  {
   "cell_type": "code",
   "execution_count": 18,
   "metadata": {},
   "outputs": [
    {
     "name": "stdout",
     "output_type": "stream",
     "text": [
      "4\n",
      "CPU times: user 243 µs, sys: 0 ns, total: 243 µs\n",
      "Wall time: 209 µs\n",
      "4\n",
      "CPU times: user 2.61 ms, sys: 0 ns, total: 2.61 ms\n",
      "Wall time: 2.58 ms\n"
     ]
    }
   ],
   "source": [
    "K.<x> = PolynomialRing(GF(101))\n",
    "f = K.random_element(100)\n",
    "g = K.random_element(20)\n",
    "%time print(euclid_gcd(f,g))\n",
    "%time print(MIGCD(f,g))"
   ]
  },
  {
   "cell_type": "code",
   "execution_count": 19,
   "metadata": {},
   "outputs": [
    {
     "name": "stdout",
     "output_type": "stream",
     "text": [
      "8\n",
      "CPU times: user 290 µs, sys: 70 µs, total: 360 µs\n",
      "Wall time: 364 µs\n",
      "8\n",
      "CPU times: user 11.9 ms, sys: 0 ns, total: 11.9 ms\n",
      "Wall time: 11.3 ms\n"
     ]
    }
   ],
   "source": [
    "K.<x> = PolynomialRing(GF(101))\n",
    "f = K.random_element(100)\n",
    "g = K.random_element(80)\n",
    "%time print(euclid_gcd(f,g))\n",
    "%time print(MIGCD(f,g))"
   ]
  },
  {
   "cell_type": "code",
   "execution_count": 35,
   "metadata": {
    "scrolled": true
   },
   "outputs": [
    {
     "name": "stdout",
     "output_type": "stream",
     "text": [
      "89\n",
      "CPU times: user 262 µs, sys: 1e+03 ns, total: 263 µs\n",
      "Wall time: 266 µs\n",
      "89\n",
      "CPU times: user 12.8 ms, sys: 2 µs, total: 12.8 ms\n",
      "Wall time: 12.7 ms\n"
     ]
    }
   ],
   "source": [
    "K.<x> = PolynomialRing(GF(101))\n",
    "f = K.random_element(100)\n",
    "g = K.random_element(99)\n",
    "%time print(euclid_gcd(f,g))\n",
    "%time print(MIGCD(f,g))"
   ]
  },
  {
   "cell_type": "code",
   "execution_count": 39,
   "metadata": {},
   "outputs": [
    {
     "name": "stdout",
     "output_type": "stream",
     "text": [
      "97\n",
      "CPU times: user 156 µs, sys: 0 ns, total: 156 µs\n",
      "Wall time: 160 µs\n",
      "97\n",
      "CPU times: user 2.32 ms, sys: 0 ns, total: 2.32 ms\n",
      "Wall time: 2.33 ms\n"
     ]
    }
   ],
   "source": [
    "K.<x> = PolynomialRing(GF(101))\n",
    "f = K.random_element(1000)\n",
    "g = K.random_element(20)\n",
    "%time print(euclid_gcd(f,g))\n",
    "%time print(MIGCD(f,g))"
   ]
  },
  {
   "cell_type": "code",
   "execution_count": 41,
   "metadata": {},
   "outputs": [
    {
     "name": "stdout",
     "output_type": "stream",
     "text": [
      "9\n",
      "CPU times: user 5.57 ms, sys: 3 µs, total: 5.57 ms\n",
      "Wall time: 5.54 ms\n",
      "9\n",
      "CPU times: user 116 ms, sys: 0 ns, total: 116 ms\n",
      "Wall time: 114 ms\n"
     ]
    }
   ],
   "source": [
    "K.<x> = PolynomialRing(GF(101))\n",
    "f = K.random_element(1000)\n",
    "g = K.random_element(800)\n",
    "%time print(euclid_gcd(f,g))\n",
    "%time print(MIGCD(f,g))"
   ]
  },
  {
   "cell_type": "code",
   "execution_count": 43,
   "metadata": {},
   "outputs": [
    {
     "name": "stdout",
     "output_type": "stream",
     "text": [
      "50\n",
      "CPU times: user 4.34 ms, sys: 0 ns, total: 4.34 ms\n",
      "Wall time: 4.25 ms\n",
      "50\n",
      "CPU times: user 131 ms, sys: 4 ms, total: 135 ms\n",
      "Wall time: 133 ms\n"
     ]
    }
   ],
   "source": [
    "K.<x> = PolynomialRing(GF(101))\n",
    "f = K.random_element(1000)\n",
    "g = K.random_element(999)\n",
    "%time print(euclid_gcd(f,g))\n",
    "%time print(MIGCD(f,g))"
   ]
  },
  {
   "cell_type": "code",
   "execution_count": 56,
   "metadata": {},
   "outputs": [
    {
     "name": "stdout",
     "output_type": "stream",
     "text": [
      "34\n",
      "CPU times: user 569 µs, sys: 0 ns, total: 569 µs\n",
      "Wall time: 486 µs\n",
      "34\n",
      "CPU times: user 1.94 ms, sys: 0 ns, total: 1.94 ms\n",
      "Wall time: 1.92 ms\n"
     ]
    }
   ],
   "source": [
    "K.<x> = PolynomialRing(GF(101))\n",
    "f = K.random_element(10000)\n",
    "g = K.random_element(10)\n",
    "%time print(euclid_gcd(f,g))\n",
    "%time print(MIGCD(f,g))"
   ]
  },
  {
   "cell_type": "code",
   "execution_count": 58,
   "metadata": {},
   "outputs": [
    {
     "name": "stdout",
     "output_type": "stream",
     "text": [
      "71\n",
      "CPU times: user 9.09 s, sys: 0 ns, total: 9.09 s\n",
      "Wall time: 9.09 s\n",
      "71\n",
      "CPU times: user 8.1 s, sys: 0 ns, total: 8.1 s\n",
      "Wall time: 8.09 s\n"
     ]
    }
   ],
   "source": [
    "K.<x> = PolynomialRing(GF(101))\n",
    "f = K.random_element(100000)\n",
    "g = K.random_element(60000)\n",
    "%time print(euclid_gcd(f,g))\n",
    "%time print(MIGCD(f,g))"
   ]
  },
  {
   "cell_type": "code",
   "execution_count": 54,
   "metadata": {},
   "outputs": [
    {
     "name": "stdout",
     "output_type": "stream",
     "text": [
      "52\n",
      "CPU times: user 6.26 s, sys: 0 ns, total: 6.26 s\n",
      "Wall time: 6.26 s\n",
      "52\n",
      "CPU times: user 6.72 s, sys: 0 ns, total: 6.72 s\n",
      "Wall time: 6.72 s\n"
     ]
    }
   ],
   "source": [
    "K.<x> = PolynomialRing(GF(101))\n",
    "f = K.random_element(100000)\n",
    "g = K.random_element(50000)\n",
    "%time print(euclid_gcd(f,g))\n",
    "%time print(MIGCD(f,g))"
   ]
  },
  {
   "cell_type": "code",
   "execution_count": 55,
   "metadata": {},
   "outputs": [
    {
     "name": "stdout",
     "output_type": "stream",
     "text": [
      "96\n",
      "CPU times: user 16 s, sys: 0 ns, total: 16 s\n",
      "Wall time: 16 s\n",
      "96\n",
      "CPU times: user 10.7 s, sys: 0 ns, total: 10.7 s\n",
      "Wall time: 10.7 s\n"
     ]
    }
   ],
   "source": [
    "K.<x> = PolynomialRing(GF(101))\n",
    "f = K.random_element(100000)\n",
    "g = K.random_element(80000)\n",
    "%time print(euclid_gcd(f,g))\n",
    "%time print(MIGCD(f,g))"
   ]
  }
 ],
 "metadata": {
  "kernelspec": {
   "display_name": "SageMath 9.0",
   "language": "sage",
   "name": "sagemath"
  },
  "language_info": {
   "codemirror_mode": {
    "name": "ipython",
    "version": 3
   },
   "file_extension": ".py",
   "mimetype": "text/x-python",
   "name": "python",
   "nbconvert_exporter": "python",
   "pygments_lexer": "ipython3",
   "version": "3.8.5"
  }
 },
 "nbformat": 4,
 "nbformat_minor": 4
}
