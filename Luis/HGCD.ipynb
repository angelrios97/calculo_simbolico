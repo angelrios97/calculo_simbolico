{
 "cells": [
  {
   "cell_type": "code",
   "execution_count": 3,
   "metadata": {},
   "outputs": [
    {
     "ename": "SyntaxError",
     "evalue": "invalid syntax (<ipython-input-3-ab8fb90c655d>, line 19)",
     "output_type": "error",
     "traceback": [
      "\u001b[0;36m  File \u001b[0;32m\"<ipython-input-3-ab8fb90c655d>\"\u001b[0;36m, line \u001b[0;32m19\u001b[0m\n\u001b[0;31m    if c2, d2 = S*vector([c])\u001b[0m\n\u001b[0m         ^\u001b[0m\n\u001b[0;31mSyntaxError\u001b[0m\u001b[0;31m:\u001b[0m invalid syntax\n"
     ]
    }
   ],
   "source": [
    "def HGCD(a,b):  # Probar el algoritmo en cuerpos finitos, porque este algoritmo no evita que crezcan los coeficientes en cuerpos de característica p.\n",
    "    m = (a.degree() / 2).ceil()\n",
    "    E = matrix(2,2,[1, 0, 0, 1])\n",
    "    if b.degree() < m:\n",
    "        return E\n",
    "    a0 = a.shift(-m)\n",
    "    b0 = b.shift(-m)\n",
    "    R = HGCD(a0, b0)\n",
    "    a2, b2 = R * vector([a, b])\n",
    "    if b2.degree() < m:\n",
    "        return R, R[0][0], R[0][1]\n",
    "    q = quo_rem(b2)\n",
    "    c, d = b2, a2 % b2\n",
    "    l = c.degree()\n",
    "    k = 2*m - l\n",
    "    c0 = c.shift(-k)\n",
    "    d0 = c.shift(-k)\n",
    "    S = HGCD(c0, d0)\n",
    "    if c2, d2 = S*vector([c])"
   ]
  },
  {
   "cell_type": "code",
   "execution_count": 2,
   "metadata": {},
   "outputs": [],
   "source": [
    "def MIGCD(f,g):\n",
    "    E = matrix(2,2,[1,0,0,1])  # En este acso, no debe devolver esta matriz, sino la matriz de polinomios.\n",
    "    m = (f.degree()/2).ceil()\n",
    "    a = f\n",
    "    b = g\n",
    "    # !!!! PREPROCESO\n",
    "    # Queremos que en todo el algoritmo se cumpla vector[a, b] == E*vector([f, g]).\n",
    "    # Los invariantes en bucles son una forma de implementar algoritmos recursivos.\n",
    "    while b != 0:\n",
    "        if b.degree() < m:\n",
    "            q, r = a.quo_rem(b)\n",
    "            a, b = b, r\n",
    "            E = matrix(2,2,[0, 1, 1, -q])*E  # Si usamos matrices, es costosos. Es mejor trabajar con listas.\n",
    "        else:\n",
    "            R = HGCD(a,b)\n",
    "            a, b = R*vector([a, b])\n",
    "            E = R*E  # Para que siga dándose la igualdad.\n",
    "    return a, E[0][0], E[0][1]"
   ]
  },
  {
   "cell_type": "code",
   "execution_count": 5,
   "metadata": {},
   "outputs": [],
   "source": [
    "f=GF(2)[x].random_element(10)"
   ]
  },
  {
   "cell_type": "code",
   "execution_count": null,
   "metadata": {},
   "outputs": [],
   "source": [
    "f.shift"
   ]
  }
 ],
 "metadata": {
  "kernelspec": {
   "display_name": "SageMath 9.0",
   "language": "sage",
   "name": "sagemath"
  },
  "language_info": {
   "codemirror_mode": {
    "name": "ipython",
    "version": 3
   },
   "file_extension": ".py",
   "mimetype": "text/x-python",
   "name": "python",
   "nbconvert_exporter": "python",
   "pygments_lexer": "ipython3",
   "version": "3.8.5"
  }
 },
 "nbformat": 4,
 "nbformat_minor": 4
}
