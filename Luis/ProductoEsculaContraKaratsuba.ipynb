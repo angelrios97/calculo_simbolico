{
 "cells": [
  {
   "cell_type": "code",
   "execution_count": 2,
   "metadata": {},
   "outputs": [],
   "source": [
    "f = [1,2,3,4,5,6,7] #Es la representación canónica de un polinomio.\n",
    "f=[] #Es la representación canónica del polinomio cero.\n",
    "SUMAS=0\n",
    "PRODUCTOS=0"
   ]
  },
  {
   "cell_type": "code",
   "execution_count": 3,
   "metadata": {},
   "outputs": [],
   "source": [
    "def Cgrado(f):\n",
    "    f=Climpia(f)\n",
    "    return len(f)-1"
   ]
  },
  {
   "cell_type": "code",
   "execution_count": 4,
   "metadata": {},
   "outputs": [],
   "source": [
    "def Climpia(f):\n",
    "    f=copy(f)\n",
    "    if not f:\n",
    "        #return f no modifica f, entonces no es local\n",
    "        return [] #modifica f\n",
    "    while f and f[-1]==0: #Miramos primero que la lista no es vacía.\n",
    "        f=f[:-1] #f.pop() modificaría la lista.\n",
    "    return f"
   ]
  },
  {
   "cell_type": "code",
   "execution_count": 5,
   "metadata": {},
   "outputs": [],
   "source": [
    "def Csuma(f,g):\n",
    "    global SUMAS\n",
    "    #Primero calculamos los tamaños\n",
    "    n=len(f)\n",
    "    m=len(g)\n",
    "    if n<m: #Nos aseguramos que f es el más grande.\n",
    "        f,g=g,f\n",
    "        n,m=m,n\n",
    "    resultado=[0]*m\n",
    "    for i in range(m):\n",
    "        resultado[i]=f[i]+g[i]\n",
    "        SUMAS+=1\n",
    "    resultado=resultado+f[m:] #Añadimos los elementos que faltan de f ahorrándonos sumas.\n",
    "    return Climpia(resultado) #Limpiamos el polinomio porque puede haber cancelaciones de términos."
   ]
  },
  {
   "cell_type": "code",
   "execution_count": 6,
   "metadata": {},
   "outputs": [],
   "source": [
    "def Cresta(f,g):\n",
    "    g=Copuesto(g)\n",
    "    return Csuma(f,g)"
   ]
  },
  {
   "cell_type": "code",
   "execution_count": 7,
   "metadata": {},
   "outputs": [],
   "source": [
    "def Copuesto(f):\n",
    "    global SUMAS\n",
    "    SUMAS+=len(g)\n",
    "    return [-i for i in f]"
   ]
  },
  {
   "cell_type": "code",
   "execution_count": 8,
   "metadata": {},
   "outputs": [],
   "source": [
    "def Cproductoescuela(f,g):\n",
    "    global SUMAS\n",
    "    global PRODUCTOS\n",
    "    f=Climpia(f) #Con esto ya podemos modificar f porque sabemos que es una copia.\n",
    "    g=Climpia(g)\n",
    "    if not f or not g:\n",
    "        return []\n",
    "    n=len(f)\n",
    "    m=len(g)\n",
    "    if n<m: #Nos aseguramos que f es el más grande.\n",
    "        f,g=g,f\n",
    "        n,m=m,n\n",
    "    if Cgrado(g)==0:\n",
    "        c=g[0]\n",
    "        PRODUCTOS+=len(f)\n",
    "        return [c*i for i in f] #Cuando calculamos en un dominio de integridad, no hace falta limpiarlo.\n",
    "    resultado=[]\n",
    "    for i in range(len(g)):\n",
    "        p=[0]*i+[j*g[i] for j in f]\n",
    "        PRODUCTOS+=len(f)\n",
    "        resultado=Csuma(resultado,p)\n",
    "    return resultado"
   ]
  },
  {
   "cell_type": "code",
   "execution_count": 26,
   "metadata": {},
   "outputs": [],
   "source": [
    "def CproductoK(f,g):\n",
    "    corte=16\n",
    "    n=len(f)\n",
    "    m=len(g)\n",
    "    t=max(n,m)\n",
    "    if t<=corte:\n",
    "        return Cproductoescuela(f,g)\n",
    "    if n<t: #Ponemos f y g del mismo tamaño rellenando con ceros.\n",
    "        f=f+[0]*(m-n) #Si los tamaños en la recursión son distintos, en estas lineas la recursión se encarga de añadir ceros.\n",
    "    elif m<t:\n",
    "        g=g+[0]*(n-m)\n",
    "    t2=floor(t/2)\n",
    "    f0=f[:t2]\n",
    "    f1=f[t2:]\n",
    "    g0=g[:t2]\n",
    "    g1=g[t2:]\n",
    "    u=CproductoK(f0,g0)\n",
    "    v=CproductoK(f1,g1)\n",
    "    fs=Csuma(f0,f1)\n",
    "    gs=Csuma(g0,g1)\n",
    "    w=CproductoK(fs,gs)\n",
    "    #Tenemos que calcular w-u-v=w-(u+v)\n",
    "    w1=Cresta(w,Csuma(u,v))\n",
    "    #Tenemos que reconstruir el polinomio u+w*x**?+v*x**?. Los exponentes dependen de t2.\n",
    "    #f0 tiene t2 términos con lo que es hasta el monomio t2-1. f1 empieza en el monomio t2.\n",
    "    #Por tanto, lo que queremos calcular es u+w*x**t2+v*x**(2*t2).\n",
    "    #Calculamos w1*x**t2 añadiendo simplemente t2 ceros.\n",
    "    resultado=Csuma(u,[0]*t2+w1)\n",
    "    resultado=Csuma(resultado,[0]*(2*t2)+v)\n",
    "    return Climpia(resultado)"
   ]
  },
  {
   "cell_type": "code",
   "execution_count": 34,
   "metadata": {},
   "outputs": [],
   "source": [
    "f=list(random_vector(100))\n",
    "g=list(random_vector(60))"
   ]
  },
  {
   "cell_type": "code",
   "execution_count": 35,
   "metadata": {},
   "outputs": [],
   "source": [
    "_=Cproductoescuela(f,g)"
   ]
  },
  {
   "cell_type": "code",
   "execution_count": 36,
   "metadata": {},
   "outputs": [],
   "source": [
    "_=CproductoK(f,g)"
   ]
  },
  {
   "cell_type": "code",
   "execution_count": null,
   "metadata": {},
   "outputs": [],
   "source": [
    "f="
   ]
  },
  {
   "cell_type": "code",
   "execution_count": null,
   "metadata": {},
   "outputs": [],
   "source": [
    "g="
   ]
  },
  {
   "cell_type": "code",
   "execution_count": 53,
   "metadata": {},
   "outputs": [
    {
     "name": "stdout",
     "output_type": "stream",
     "text": [
      "4.525266000000002\n"
     ]
    },
    {
     "data": {
      "text/plain": [
       "(10488501, 10000000, 20488501)"
      ]
     },
     "execution_count": 53,
     "metadata": {},
     "output_type": "execute_result"
    }
   ],
   "source": [
    "SUMAS=0\n",
    "PRODUCTOS=0\n",
    "tt=cputime()\n",
    "_=Cproductoescuela(f,g)\n",
    "print(cputime()-tt)\n",
    "SUMAS,PRODUCTOS,SUMAS+PRODUCTOS"
   ]
  },
  {
   "cell_type": "code",
   "execution_count": 51,
   "metadata": {},
   "outputs": [
    {
     "name": "stdout",
     "output_type": "stream",
     "text": [
      "6.886927000000007\n"
     ]
    },
    {
     "data": {
      "text/plain": [
       "(266505338, 1070240, 267575578)"
      ]
     },
     "execution_count": 51,
     "metadata": {},
     "output_type": "execute_result"
    }
   ],
   "source": [
    "#corte \n",
    "tt=cputime()\n",
    "SUMAS=0\n",
    "PRODUCTOS=0\n",
    "_=CproductoK(f,g)\n",
    "print(cputime()-tt)\n",
    "SUMAS,PRODUCTOS,SUMAS+PRODUCTOS"
   ]
  },
  {
   "cell_type": "code",
   "execution_count": 49,
   "metadata": {},
   "outputs": [
    {
     "data": {
      "text/plain": [
       "(266505338, 1070240, 267575578)"
      ]
     },
     "execution_count": 49,
     "metadata": {},
     "output_type": "execute_result"
    }
   ],
   "source": [
    "#corte=2\n",
    "SUMAS=0\n",
    "PRODUCTOS=0\n",
    "_=CproductoK(f,g)\n",
    "SUMAS,PRODUCTOS,SUMAS+PRODUCTOS"
   ]
  },
  {
   "cell_type": "code",
   "execution_count": 47,
   "metadata": {},
   "outputs": [],
   "source": [
    "f=[1]*10000\n",
    "g=[1]*1000\n",
    "#En este ejemplo, el algoritmo de Karatsuba, como m<sqrt(100), se nota la diferencia.\n",
    "#Nos interesa mejorar el algoritmo para que sea mejor que el de la escuela cuando haya diferencia de tamaños."
   ]
  },
  {
   "cell_type": "code",
   "execution_count": 40,
   "metadata": {},
   "outputs": [],
   "source": [
    "f=[1]*1000\n",
    "g=[1]*10"
   ]
  },
  {
   "cell_type": "code",
   "execution_count": 10,
   "metadata": {},
   "outputs": [],
   "source": [
    "def unomas(f):\n",
    "    f.append(1)\n",
    "    return f #Modifica f.\n",
    "def otromas(f):\n",
    "    f+[1] #No modifica f.\n",
    "    \n",
    "#Hay que tener cuidado si las variables tienen valores por defecto.\n",
    "#Es la razón por la que a veces es mejor usar tuplas.\n",
    "\n",
    "def unomas2(f=[]):\n",
    "    f.append(1)\n",
    "    return f\n",
    "def otromas2(f=1):\n",
    "    return f+[1]"
   ]
  },
  {
   "cell_type": "code",
   "execution_count": 11,
   "metadata": {
    "scrolled": true
   },
   "outputs": [
    {
     "data": {
      "text/plain": [
       "[0, 0, 0, 0, 0, 0, 0, 0, 0, 0, 0, 0, 1]"
      ]
     },
     "execution_count": 11,
     "metadata": {},
     "output_type": "execute_result"
    }
   ],
   "source": [
    "f=[0,0,0,0,1]\n",
    "g=[0]*8+[1]\n",
    "Cproductoescuela(f,g)"
   ]
  }
 ],
 "metadata": {
  "kernelspec": {
   "display_name": "SageMath 9.0",
   "language": "sage",
   "name": "sagemath"
  },
  "language_info": {
   "codemirror_mode": {
    "name": "ipython",
    "version": 3
   },
   "file_extension": ".py",
   "mimetype": "text/x-python",
   "name": "python",
   "nbconvert_exporter": "python",
   "pygments_lexer": "ipython3",
   "version": "3.8.5"
  }
 },
 "nbformat": 4,
 "nbformat_minor": 4
}
