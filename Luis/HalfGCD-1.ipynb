{
 "cells": [
  {
   "cell_type": "code",
   "execution_count": 3,
   "metadata": {},
   "outputs": [],
   "source": [
    "def HGCD(a,b):\n",
    "    m = (a.degree() / 2).ceil()\n",
    "    E = matrix(2,2,[1, 0, 0, 1])\n",
    "    if b.degree() < m:\n",
    "        return E\n",
    "    a0 = a[0:m]\n",
    "    b0 = b[0:m]\n",
    "    R = HGCD(a0, b0)\n",
    "    a2, b2 = R * vector([a, b])\n",
    "    if deg(b2) < m:\n",
    "        return R\n",
    "    \n",
    "    f"
   ]
  },
  {
   "cell_type": "code",
   "execution_count": 4,
   "metadata": {},
   "outputs": [],
   "source": [
    "def MIGCD(f,g):\n",
    "    E = matrix(2,2,[1,0,0,1])\n",
    "    m = (f.degree()/2).ceil()\n",
    "    a = f\n",
    "    b = g\n",
    "    # !!!! PREPROCESO\n",
    "    # Queremos que en todo el algoritmo se cumpla vector[a, b] == E*vector([f, g]).\n",
    "    # Los invariantes en bucles son una forma de implementar algoritmos recursivos.\n",
    "    while b != 0:\n",
    "        if b.degree() < m:\n",
    "            q, r = a.quo_rem(b)\n",
    "            a, b = b, r\n",
    "            E = matrix(2,2,[0, 1, 1, -q])*E\n",
    "        else:\n",
    "            R = HGCD(a,b)\n",
    "            a, b = R*vector([a, b])\n",
    "            E = R*E  # Para que siga dándose la igualdad.\n",
    "    return a, E[0][0], E[0][1]"
   ]
  },
  {
   "cell_type": "code",
   "execution_count": 2,
   "metadata": {},
   "outputs": [
    {
     "ename": "NameError",
     "evalue": "name 'random_vector' is not defined",
     "output_type": "error",
     "traceback": [
      "\u001b[0;31m---------------------------------------------------------------------------\u001b[0m",
      "\u001b[0;31mNameError\u001b[0m                                 Traceback (most recent call last)",
      "\u001b[0;32m<ipython-input-2-eb52aa558fcd>\u001b[0m in \u001b[0;36m<module>\u001b[0;34m\u001b[0m\n\u001b[0;32m----> 1\u001b[0;31m \u001b[0mf\u001b[0m\u001b[0;34m=\u001b[0m\u001b[0mrandom_vector\u001b[0m\u001b[0;34m(\u001b[0m\u001b[0;36m12\u001b[0m\u001b[0;34m)\u001b[0m\u001b[0;34m\u001b[0m\u001b[0;34m\u001b[0m\u001b[0m\n\u001b[0m",
      "\u001b[0;31mNameError\u001b[0m: name 'random_vector' is not defined"
     ]
    }
   ],
   "source": []
  },
  {
   "cell_type": "code",
   "execution_count": null,
   "metadata": {},
   "outputs": [],
   "source": []
  }
 ],
 "metadata": {
  "kernelspec": {
   "display_name": "Python 3",
   "language": "python",
   "name": "python3"
  },
  "language_info": {
   "codemirror_mode": {
    "name": "ipython",
    "version": 3
   },
   "file_extension": ".py",
   "mimetype": "text/x-python",
   "name": "python",
   "nbconvert_exporter": "python",
   "pygments_lexer": "ipython3",
   "version": "3.8.5"
  }
 },
 "nbformat": 4,
 "nbformat_minor": 4
}
