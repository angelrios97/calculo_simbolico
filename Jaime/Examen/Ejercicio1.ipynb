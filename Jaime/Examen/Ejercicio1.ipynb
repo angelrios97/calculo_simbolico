{
 "cells": [
  {
   "cell_type": "code",
   "execution_count": 64,
   "metadata": {},
   "outputs": [],
   "source": [
    "def cero_dimensional(I):\n",
    "    R = I.ring()  # Anillo de polinomios del ideal.\n",
    "    VARIABLES = list(R.gens())  # Variables del anillo de polinomios.\n",
    "    polinomios = []  # Guardará los polinomios en una variable.\n",
    "    for k in VARIABLES:  # Para cada variable x_i,\n",
    "        J = I.elimination_ideal(tuple(VARIABLES.remove(k)))  # intersecamos el ideal I con K[x_i].\n",
    "        VARIABLES.append(k)  # Volvemos a añadir la variable para la siguiente iteración.\n",
    "        if J.is_zero():  # Si el ideal es nulo, no contiene polinomios en la variable K[x_i], \n",
    "            return \"No es cero-dimensional.\"  # no es cero-dimensional.\n",
    "        else:  # Si el ideal no es nulo, añadimos uno de los polinomios en la variable K[x_i]\n",
    "            polinomios = polinomios.append(J.random_element()) \n",
    "    return polinomios  # Si es cero-dimensional, retornamos los polinomios univariados."
   ]
  }
 ],
 "metadata": {
  "kernelspec": {
   "display_name": "SageMath 9.0",
   "language": "sage",
   "name": "sagemath"
  },
  "language_info": {
   "codemirror_mode": {
    "name": "ipython",
    "version": 3
   },
   "file_extension": ".py",
   "mimetype": "text/x-python",
   "name": "python",
   "nbconvert_exporter": "python",
   "pygments_lexer": "ipython3",
   "version": "3.8.5"
  }
 },
 "nbformat": 4,
 "nbformat_minor": 4
}
