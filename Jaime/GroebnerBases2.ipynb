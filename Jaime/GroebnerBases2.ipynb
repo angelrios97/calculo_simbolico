{
 "cells": [
  {
   "cell_type": "code",
   "execution_count": 1,
   "metadata": {},
   "outputs": [],
   "source": [
    "T.<a,b,c>=PolynomialRing(QQ,3)\n",
    "S=FractionField(T)"
   ]
  },
  {
   "cell_type": "code",
   "execution_count": 2,
   "metadata": {},
   "outputs": [
    {
     "data": {
      "text/plain": [
       "Multivariate Polynomial Ring in a, b, c over Rational Field"
      ]
     },
     "execution_count": 2,
     "metadata": {},
     "output_type": "execute_result"
    }
   ],
   "source": [
    "T"
   ]
  },
  {
   "cell_type": "code",
   "execution_count": 3,
   "metadata": {},
   "outputs": [
    {
     "data": {
      "text/plain": [
       "Fraction Field of Multivariate Polynomial Ring in a, b, c over Rational Field"
      ]
     },
     "execution_count": 3,
     "metadata": {},
     "output_type": "execute_result"
    }
   ],
   "source": [
    "S"
   ]
  },
  {
   "cell_type": "code",
   "execution_count": 6,
   "metadata": {},
   "outputs": [
    {
     "data": {
      "text/plain": [
       "Multivariate Polynomial Ring in z, x, y over Fraction Field of Multivariate Polynomial Ring in a, b, c over Rational Field"
      ]
     },
     "execution_count": 6,
     "metadata": {},
     "output_type": "execute_result"
    }
   ],
   "source": [
    "K.<z,x,y>=PolynomialRing(S,3,order=\"lex\")\n",
    "K"
   ]
  },
  {
   "cell_type": "code",
   "execution_count": 7,
   "metadata": {},
   "outputs": [],
   "source": [
    "f1=x-a/2\n",
    "f2=b*(x-b/2)+c*(y-c/2)\n",
    "f=(a-b)*(x-(a-b)/2)+c*(y-c/2)"
   ]
  },
  {
   "cell_type": "code",
   "execution_count": 8,
   "metadata": {},
   "outputs": [
    {
     "data": {
      "text/plain": [
       "(x - 1/2*a,\n",
       " b*x + c*y - 1/2*b^2 - 1/2*c^2,\n",
       " (a - b)*x + c*y - 1/2*a^2 + a*b - 1/2*b^2 - 1/2*c^2)"
      ]
     },
     "execution_count": 8,
     "metadata": {},
     "output_type": "execute_result"
    }
   ],
   "source": [
    "f1,f2,f"
   ]
  },
  {
   "cell_type": "code",
   "execution_count": 9,
   "metadata": {},
   "outputs": [],
   "source": [
    "# Tenemos que ver si f está en el radical del ideal. Por el truco de Rabinowitch, es equivalente a ver que el\n",
    "# el ideal #J=(f,1,f2,fz-1) es el ideal total."
   ]
  },
  {
   "cell_type": "code",
   "execution_count": 10,
   "metadata": {},
   "outputs": [],
   "source": [
    "I=Ideal(f1,f2)"
   ]
  },
  {
   "cell_type": "code",
   "execution_count": 11,
   "metadata": {},
   "outputs": [],
   "source": [
    "J=Ideal(f1,f2,f*z-1)"
   ]
  },
  {
   "cell_type": "code",
   "execution_count": 12,
   "metadata": {},
   "outputs": [
    {
     "data": {
      "text/plain": [
       "Ideal (x - 1/2*a, b*x + c*y - 1/2*b^2 - 1/2*c^2, (a - b)*z*x + c*z*y + (-1/2*a^2 + a*b - 1/2*b^2 - 1/2*c^2)*z - 1) of Multivariate Polynomial Ring in z, x, y over Fraction Field of Multivariate Polynomial Ring in a, b, c over Rational Field"
      ]
     },
     "execution_count": 12,
     "metadata": {},
     "output_type": "execute_result"
    }
   ],
   "source": [
    "J"
   ]
  },
  {
   "cell_type": "code",
   "execution_count": 13,
   "metadata": {},
   "outputs": [],
   "source": [
    "G=J.groebner_basis()"
   ]
  },
  {
   "cell_type": "code",
   "execution_count": 14,
   "metadata": {},
   "outputs": [
    {
     "data": {
      "text/plain": [
       "[1]"
      ]
     },
     "execution_count": 14,
     "metadata": {},
     "output_type": "execute_result"
    }
   ],
   "source": [
    "G"
   ]
  },
  {
   "cell_type": "code",
   "execution_count": 37,
   "metadata": {},
   "outputs": [
    {
     "data": {
      "text/plain": [
       "[x + 11843961778336162000/2330599030856192113611*z^9 - 77728666059505272920/2330599030856192113611*z^8 + 219408171221894747588/2330599030856192113611*z^7 + 419356349221975441219/2330599030856192113611*z^6 + 510990946650982488397/2330599030856192113611*z^5 - 34966703238118863445/4661198061712384227222*z^4 + 582463093212106175891/1553732687237461409074*z^3 + 1182517504979153226043/3107465374474922818148*z^2 - 370400945775345288352/776866343618730704537*z - 9685107478649045642183/18644792246849536908888, y - 11843961778336162000/6991797092568576340833*z^9 + 77728666059505272920/6991797092568576340833*z^8 - 219408171221894747588/6991797092568576340833*z^7 - 419356349221975441219/6991797092568576340833*z^6 - 510990946650982488397/6991797092568576340833*z^5 + 34966703238118863445/13983594185137152681666*z^4 - 582463093212106175891/4661198061712384227222*z^3 - 1182517504979153226043/9322396123424768454444*z^2 - 406465397843385416185/2330599030856192113611*z + 46974691972348119459959/55934376740548610726664, z^10 - 204/25*z^9 + 7561/250*z^8 + 193/125*z^7 - 3156/125*z^6 + 29157/250*z^5 + 12091/500*z^4 - 43863/500*z^3 + 335097/2000*z^2 - 88963/1000*z - 183341/4000]"
      ]
     },
     "execution_count": 37,
     "metadata": {},
     "output_type": "execute_result"
    }
   ],
   "source": [
    "H.<x,y,z>=PolynomialRing(QQ,3,order='lex')\n",
    "f1=x**2+y**2+z**2-1\n",
    "f2=x**3*y**2-z**3*x-3*x+1\n",
    "f3=x+3*y-z+2\n",
    "I=Ideal(f1,f2,f3)\n",
    "G=I.groebner_basis()\n",
    "G"
   ]
  },
  {
   "cell_type": "code",
   "execution_count": 33,
   "metadata": {},
   "outputs": [
    {
     "data": {
      "text/plain": [
       "3"
      ]
     },
     "execution_count": 33,
     "metadata": {},
     "output_type": "execute_result"
    }
   ],
   "source": [
    "len(G)"
   ]
  },
  {
   "cell_type": "code",
   "execution_count": 34,
   "metadata": {},
   "outputs": [
    {
     "data": {
      "text/plain": [
       "z^10 - 204/25*z^9 + 7561/250*z^8 + 193/125*z^7 - 3156/125*z^6 + 29157/250*z^5 + 12091/500*z^4 - 43863/500*z^3 + 335097/2000*z^2 - 88963/1000*z - 183341/4000"
      ]
     },
     "execution_count": 34,
     "metadata": {},
     "output_type": "execute_result"
    }
   ],
   "source": [
    "G[2]"
   ]
  },
  {
   "cell_type": "code",
   "execution_count": 35,
   "metadata": {},
   "outputs": [
    {
     "data": {
      "text/plain": [
       "y - 11843961778336162000/6991797092568576340833*z^9 + 77728666059505272920/6991797092568576340833*z^8 - 219408171221894747588/6991797092568576340833*z^7 - 419356349221975441219/6991797092568576340833*z^6 - 510990946650982488397/6991797092568576340833*z^5 + 34966703238118863445/13983594185137152681666*z^4 - 582463093212106175891/4661198061712384227222*z^3 - 1182517504979153226043/9322396123424768454444*z^2 - 406465397843385416185/2330599030856192113611*z + 46974691972348119459959/55934376740548610726664"
      ]
     },
     "execution_count": 35,
     "metadata": {},
     "output_type": "execute_result"
    }
   ],
   "source": [
    "G[1]"
   ]
  },
  {
   "cell_type": "code",
   "execution_count": 44,
   "metadata": {},
   "outputs": [
    {
     "data": {
      "text/plain": [
       "x + 11843961778336162000/2330599030856192113611*z^9 - 77728666059505272920/2330599030856192113611*z^8 + 219408171221894747588/2330599030856192113611*z^7 + 419356349221975441219/2330599030856192113611*z^6 + 510990946650982488397/2330599030856192113611*z^5 - 34966703238118863445/4661198061712384227222*z^4 + 582463093212106175891/1553732687237461409074*z^3 + 1182517504979153226043/3107465374474922818148*z^2 - 370400945775345288352/776866343618730704537*z - 9685107478649045642183/18644792246849536908888"
      ]
     },
     "execution_count": 44,
     "metadata": {},
     "output_type": "execute_result"
    }
   ],
   "source": [
    "G[0]"
   ]
  },
  {
   "cell_type": "code",
   "execution_count": 61,
   "metadata": {},
   "outputs": [],
   "source": [
    "T.<t,x,y>=PolynomialRing(QQ,3,order='lex')\n",
    "f1=x*(1+t**2)-2*t; f2=y*(1+t**2)-1+t^2;\n",
    "I=Ideal(f1,f2)\n",
    "G=I.groebner_basis()"
   ]
  },
  {
   "cell_type": "code",
   "execution_count": 62,
   "metadata": {},
   "outputs": [
    {
     "data": {
      "text/plain": [
       "[t*x + y - 1, t*y + t - x, x^2 + y^2 - 1]"
      ]
     },
     "execution_count": 62,
     "metadata": {},
     "output_type": "execute_result"
    }
   ],
   "source": [
    "G"
   ]
  }
 ],
 "metadata": {
  "kernelspec": {
   "display_name": "SageMath 9.0",
   "language": "sage",
   "name": "sagemath"
  },
  "language_info": {
   "codemirror_mode": {
    "name": "ipython",
    "version": 3
   },
   "file_extension": ".py",
   "mimetype": "text/x-python",
   "name": "python",
   "nbconvert_exporter": "python",
   "pygments_lexer": "ipython3",
   "version": "3.8.5"
  }
 },
 "nbformat": 4,
 "nbformat_minor": 4
}
