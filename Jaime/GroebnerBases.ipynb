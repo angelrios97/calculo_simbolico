{
 "cells": [
  {
   "cell_type": "code",
   "execution_count": 77,
   "metadata": {},
   "outputs": [],
   "source": [
    "H.<x,z,y> = PolynomialRing(QQ,3,order='deglex')"
   ]
  },
  {
   "cell_type": "code",
   "execution_count": 78,
   "metadata": {},
   "outputs": [
    {
     "data": {
      "text/plain": [
       "Multivariate Polynomial Ring in x, z, y over Rational Field"
      ]
     },
     "execution_count": 78,
     "metadata": {},
     "output_type": "execute_result"
    }
   ],
   "source": [
    "H"
   ]
  },
  {
   "cell_type": "code",
   "execution_count": 79,
   "metadata": {},
   "outputs": [
    {
     "data": {
      "text/plain": [
       "x^2*y^5 - z^4 + x^3 - x*z"
      ]
     },
     "execution_count": 79,
     "metadata": {},
     "output_type": "execute_result"
    }
   ],
   "source": [
    "f = x**2*y**5-z**4-z*x+x**3; f"
   ]
  },
  {
   "cell_type": "code",
   "execution_count": 80,
   "metadata": {},
   "outputs": [
    {
     "data": {
      "text/plain": [
       "(x^2*y^5, x^2*y^5, 1)"
      ]
     },
     "execution_count": 80,
     "metadata": {},
     "output_type": "execute_result"
    }
   ],
   "source": [
    "f.lm(), f.lt(), f.lc()"
   ]
  },
  {
   "cell_type": "code",
   "execution_count": 81,
   "metadata": {},
   "outputs": [
    {
     "data": {
      "text/plain": [
       "[x^2*y^5 - z^4 + x^3 - x*z, x*z - 1, x^2 + z^2 + y^2 - 1]"
      ]
     },
     "execution_count": 81,
     "metadata": {},
     "output_type": "execute_result"
    }
   ],
   "source": [
    "G=[f, x*z-1, x**2+y**2+z**2-1]; G"
   ]
  },
  {
   "cell_type": "code",
   "execution_count": 82,
   "metadata": {},
   "outputs": [
    {
     "data": {
      "text/plain": [
       "Ideal (x^2*y^5 - z^4 + x^3 - x*z, x*z - 1, x^2 + z^2 + y^2 - 1) of Multivariate Polynomial Ring in x, z, y over Rational Field"
      ]
     },
     "execution_count": 82,
     "metadata": {},
     "output_type": "execute_result"
    }
   ],
   "source": [
    "I = Ideal(G); I"
   ]
  },
  {
   "cell_type": "code",
   "execution_count": 83,
   "metadata": {},
   "outputs": [
    {
     "data": {
      "text/plain": [
       "[1, -1, 1, -1]"
      ]
     },
     "execution_count": 83,
     "metadata": {},
     "output_type": "execute_result"
    }
   ],
   "source": [
    "f.coefficients()"
   ]
  },
  {
   "cell_type": "code",
   "execution_count": 84,
   "metadata": {},
   "outputs": [
    {
     "data": {
      "text/plain": [
       "-x^3 + 4/7*x^2*z - x^2*y - x*z^2 - 1/2*x*z*y - x*y^2 - z^2*y - y^3 + x^2 + 1/3*x*z + z^2 + y^2 + 3/7*x + 3/2*y - 4/3"
      ]
     },
     "execution_count": 84,
     "metadata": {},
     "output_type": "execute_result"
    }
   ],
   "source": [
    "h = I.random_element(3); h"
   ]
  },
  {
   "cell_type": "code",
   "execution_count": 85,
   "metadata": {},
   "outputs": [
    {
     "data": {
      "text/plain": [
       "0"
      ]
     },
     "execution_count": 85,
     "metadata": {},
     "output_type": "execute_result"
    }
   ],
   "source": [
    "h.reduce(G)"
   ]
  },
  {
   "cell_type": "code",
   "execution_count": 86,
   "metadata": {},
   "outputs": [],
   "source": [
    " F = I.groebner_basis()"
   ]
  },
  {
   "cell_type": "code",
   "execution_count": 87,
   "metadata": {},
   "outputs": [
    {
     "data": {
      "text/plain": [
       "[z*y^6 + z*y^5 + x*y^4 - 3*z*y^4 - 2*x*y^2 + 2*z*y^2 + x + 1, y^7 + y^6 + 2*z^2*y^3 - y^5 - z^2*y^2 + x*y^2 - z^2*y - y^3 + x*y + z^2 - x + z + y, x*y^5 - z*y^4 - x*y^2 + 2*z*y^2 - z^2 - y^2 + x - z + 1, z^2*y^4 - y^5 - 2*z^2*y^2 + z^2 + y^2 - x - 1, z^3 + z*y^2 + x - z, x^2 + z^2 + y^2 - 1, x*z - 1]"
      ]
     },
     "execution_count": 87,
     "metadata": {},
     "output_type": "execute_result"
    }
   ],
   "source": [
    "F"
   ]
  },
  {
   "cell_type": "code",
   "execution_count": 88,
   "metadata": {},
   "outputs": [
    {
     "name": "stdout",
     "output_type": "stream",
     "text": [
      "z*y^6 + z*y^5 + x*y^4 - 3*z*y^4 - 2*x*y^2 + 2*z*y^2 + x + 1\n",
      "y^7 + y^6 + 2*z^2*y^3 - y^5 - z^2*y^2 + x*y^2 - z^2*y - y^3 + x*y + z^2 - x + z + y\n",
      "x*y^5 - z*y^4 - x*y^2 + 2*z*y^2 - z^2 - y^2 + x - z + 1\n",
      "z^2*y^4 - y^5 - 2*z^2*y^2 + z^2 + y^2 - x - 1\n",
      "z^3 + z*y^2 + x - z\n",
      "x^2 + z^2 + y^2 - 1\n",
      "x*z - 1\n"
     ]
    }
   ],
   "source": [
    "for x in F: print(x)"
   ]
  },
  {
   "cell_type": "code",
   "execution_count": 89,
   "metadata": {},
   "outputs": [
    {
     "data": {
      "text/plain": [
       "7"
      ]
     },
     "execution_count": 89,
     "metadata": {},
     "output_type": "execute_result"
    }
   ],
   "source": [
    "len(F)"
   ]
  },
  {
   "cell_type": "code",
   "execution_count": 90,
   "metadata": {},
   "outputs": [
    {
     "data": {
      "text/plain": [
       "0"
      ]
     },
     "execution_count": 90,
     "metadata": {},
     "output_type": "execute_result"
    }
   ],
   "source": [
    "h.reduce(F)"
   ]
  },
  {
   "cell_type": "code",
   "execution_count": 91,
   "metadata": {},
   "outputs": [],
   "source": [
    "from sage.rings.polynomial.toy_d_basis import spol"
   ]
  },
  {
   "cell_type": "code",
   "execution_count": 92,
   "metadata": {},
   "outputs": [
    {
     "data": {
      "text/plain": [
       "4/7*x^2*z*y^5 - x^2*y^6 - x*z^2*y^5 - 1/2*x*z*y^6 - x*y^7 - z^2*y^6 - y^8 + x^2*y^5 + 1/3*x*z*y^5 + z^2*y^5 + y^7 + 3/7*x*y^5 + 3/2*y^6 - x*z^4 - 4/3*y^5 + x^4 - x^2*z"
      ]
     },
     "execution_count": 92,
     "metadata": {},
     "output_type": "execute_result"
    }
   ],
   "source": [
    "spol(f,h)"
   ]
  },
  {
   "cell_type": "code",
   "execution_count": null,
   "metadata": {},
   "outputs": [],
   "source": []
  },
  {
   "cell_type": "code",
   "execution_count": 93,
   "metadata": {},
   "outputs": [
    {
     "name": "stdout",
     "output_type": "stream",
     "text": [
      "0\n",
      "z2\n",
      "z2 + 1\n",
      "1\n"
     ]
    }
   ],
   "source": [
    "for x in GF(4):\n",
    "    print(x)"
   ]
  },
  {
   "cell_type": "code",
   "execution_count": 94,
   "metadata": {},
   "outputs": [
    {
     "data": {
      "text/plain": [
       "-z^4 - 5*z + 819325"
      ]
     },
     "execution_count": 94,
     "metadata": {},
     "output_type": "execute_result"
    }
   ],
   "source": [
    "f(x=5,y=8)"
   ]
  },
  {
   "cell_type": "code",
   "execution_count": 95,
   "metadata": {},
   "outputs": [
    {
     "data": {
      "text/plain": [
       "[                                                                                              0                                                                             x^2 + z^2 + y^2 - 1                                                                                        -x*z + 1]\n",
       "[                                                                                       -x*z + 1                                            -z^2*y^5 - y^7 + y^5 - z^4 - x*z^2 - x*y^2 - x*z + x                                                                       x*z*y^5 - y^5 + x^2*z - x]\n",
       "[                                                                           -x^2 - z^2 - y^2 + 1                                                                                               0                                                                       x^2*y^5 - z^4 + x^3 - x*z]\n",
       "[                                                                           -z^3 - z*y^2 - x + z x*z^2*y^5 + x*y^7 - x*y^5 + x*z^4 - z^4 - 2*z^2*y^2 - y^4 - z^3 - z*y^2 + 2*z^2 + 2*y^2 + z - 1                                   x*y^5 - z^5 + x*z^3 + x*z*y^2 + x^2 - x*z - z^2 - y^2 - z + 1]"
      ]
     },
     "execution_count": 95,
     "metadata": {},
     "output_type": "execute_result"
    }
   ],
   "source": [
    "I.syzygy_module()"
   ]
  },
  {
   "cell_type": "code",
   "execution_count": null,
   "metadata": {},
   "outputs": [],
   "source": []
  },
  {
   "cell_type": "code",
   "execution_count": null,
   "metadata": {},
   "outputs": [],
   "source": []
  }
 ],
 "metadata": {
  "kernelspec": {
   "display_name": "SageMath 9.0",
   "language": "sage",
   "name": "sagemath"
  },
  "language_info": {
   "codemirror_mode": {
    "name": "ipython",
    "version": 3
   },
   "file_extension": ".py",
   "mimetype": "text/x-python",
   "name": "python",
   "nbconvert_exporter": "python",
   "pygments_lexer": "ipython3",
   "version": "3.8.5"
  }
 },
 "nbformat": 4,
 "nbformat_minor": 4
}
